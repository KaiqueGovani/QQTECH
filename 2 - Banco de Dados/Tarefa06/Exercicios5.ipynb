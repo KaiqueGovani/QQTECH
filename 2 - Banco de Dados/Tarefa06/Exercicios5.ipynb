{
 "cells": [
  {
   "cell_type": "markdown",
   "metadata": {},
   "source": [
    "### 1) Crie uma conexão com o banco QQ TECH.\n",
    " \n",
    "\n",
    " \n"
   ]
  },
  {
   "cell_type": "code",
   "execution_count": 4,
   "metadata": {},
   "outputs": [
    {
     "name": "stdout",
     "output_type": "stream",
     "text": [
      "Conexão estabelecida\n"
     ]
    }
   ],
   "source": [
    "connection = \"host=172.22.0.99 port=5332 dbname=risco user=u_bots_risco password=PDLbIF513Jt5\"\n",
    "\n",
    "import psycopg2\n",
    "import pandas as pd\n",
    "\n",
    "with psycopg2.connect(connection) as conn:\n",
    "    \n",
    "    print('Conexão estabelecida')\n",
    "    # Aqui roda o código com a conexão aberta"
   ]
  },
  {
   "cell_type": "markdown",
   "metadata": {},
   "source": [
    "### 2) Com a conexão criada, selecione na tabela tabela_treinamento do banco:\n",
    " \n",
    "#### a) As linhas que correspondem a pessoas de São Paulo\n"
   ]
  },
  {
   "cell_type": "code",
   "execution_count": null,
   "metadata": {},
   "outputs": [],
   "source": [
    "queryA = ''' SELECT * FROM db_risco.tabela_treinamento \n",
    "            WHERE \"cidade\" = 'São Paulo' '''\n",
    "\n",
    "with psycopg2.connect(connection) as conn:\n",
    "    df = pd.read_sql(queryA, conn)\n",
    "    print(df)"
   ]
  },
  {
   "cell_type": "markdown",
   "metadata": {},
   "source": [
    "\n",
    "#### b) As linhas que correspondem a pessoas com idade entre 22 e 27 anos\n"
   ]
  },
  {
   "cell_type": "code",
   "execution_count": 14,
   "metadata": {},
   "outputs": [
    {
     "name": "stdout",
     "output_type": "stream",
     "text": [
      "         nome          cpf  idade          cidade\n",
      "0        João  12345678900     25       São Paulo\n",
      "1       Maria  99999999900     27  Rio de Janeiro\n",
      "2       Pedro  13465278811     23           Natal\n",
      "3       Lucas  13468478511     24        Curitiba\n",
      "4     Rodrigo  64868848878     23       São Paulo\n",
      "5       Bruno  19868848878     23       São Paulo\n",
      "6       Tiago   8581448818     22    Porto Alegre\n",
      "7      Felipe  12345678999     23  Belo Horizonte\n",
      "8      Felipe  12345678999     23  Belo Horizonte\n",
      "9       Lucas  10548957209     25          Recife\n",
      "10     Felipe  12345678999     23  Belo Horizonte\n",
      "11    Leticia  87598615589     23       São Paulo\n",
      "12    Rogério  74658233429     26  Santa Catarina\n",
      "13     Felipe  12345678999     23  Belo Horizonte\n",
      "14        aaa       123456     23              SP\n",
      "15        aaa       123456     23              SP\n",
      "16        aaa       123456     23              SP\n",
      "17  teste 123          123     25           TESTE\n"
     ]
    },
    {
     "name": "stderr",
     "output_type": "stream",
     "text": [
      "C:\\Users\\980183\\AppData\\Local\\Temp\\ipykernel_1632\\1627297487.py:5: UserWarning: pandas only supports SQLAlchemy connectable (engine/connection) or database string URI or sqlite3 DBAPI2 connection. Other DBAPI2 objects are not tested. Please consider using SQLAlchemy.\n",
      "  df = pd.read_sql(queryB, conn)\n"
     ]
    }
   ],
   "source": [
    "queryB = ''' SELECT * FROM db_risco.tabela_treinamento \n",
    "            WHERE \"idade\" BETWEEN 22 AND 27 '''\n",
    "\n",
    "with psycopg2.connect(connection) as conn:\n",
    "    df = pd.read_sql(queryB, conn)\n",
    "    print(df)"
   ]
  },
  {
   "cell_type": "markdown",
   "metadata": {},
   "source": [
    "\n",
    "#### c) As cidades das pessoas com o nome Maria"
   ]
  },
  {
   "cell_type": "code",
   "execution_count": 16,
   "metadata": {},
   "outputs": [
    {
     "name": "stdout",
     "output_type": "stream",
     "text": [
      "    nome          cidade\n",
      "0  Maria  Rio de Janeiro\n",
      "1  Maria          Canoas\n"
     ]
    },
    {
     "name": "stderr",
     "output_type": "stream",
     "text": [
      "C:\\Users\\980183\\AppData\\Local\\Temp\\ipykernel_1632\\702546663.py:5: UserWarning: pandas only supports SQLAlchemy connectable (engine/connection) or database string URI or sqlite3 DBAPI2 connection. Other DBAPI2 objects are not tested. Please consider using SQLAlchemy.\n",
      "  df = pd.read_sql(queryC, conn)\n"
     ]
    }
   ],
   "source": [
    "queryC = ''' SELECT \"nome\", \"cidade\" FROM db_risco.tabela_treinamento \n",
    "            WHERE \"nome\" ILIKE 'maria%' '''\n",
    "\n",
    "with psycopg2.connect(connection) as conn:\n",
    "    df = pd.read_sql(queryC, conn)\n",
    "    print(df)"
   ]
  },
  {
   "cell_type": "markdown",
   "metadata": {},
   "source": [
    "### 3) Insira na tabela 2 novas linhas com dados ficticios"
   ]
  },
  {
   "cell_type": "code",
   "execution_count": 25,
   "metadata": {},
   "outputs": [],
   "source": [
    "query3 = ''' INSERT INTO db_risco.tabela_treinamento \n",
    "            (nome, cpf, idade, cidade) \n",
    "            VALUES (%s, %s, %s, %s), (%s, %s, %s, %s)'''\n",
    "\n",
    "values = (\"Kaique Govani\", \"235235353\", 20, \"Sorocaba\",\n",
    "          \"Ricardo Milos\", \"323232323\", 36, \"Paris\"  )\n",
    "\n",
    "with psycopg2.connect(connection) as conn:\n",
    "\n",
    "    with conn.cursor() as cursor: \n",
    "        cursor.execute(query3,values)\n",
    "\n",
    "    \n"
   ]
  }
 ],
 "metadata": {
  "kernelspec": {
   "display_name": "Python 3",
   "language": "python",
   "name": "python3"
  },
  "language_info": {
   "codemirror_mode": {
    "name": "ipython",
    "version": 3
   },
   "file_extension": ".py",
   "mimetype": "text/x-python",
   "name": "python",
   "nbconvert_exporter": "python",
   "pygments_lexer": "ipython3",
   "version": "3.11.5"
  },
  "orig_nbformat": 4
 },
 "nbformat": 4,
 "nbformat_minor": 2
}
