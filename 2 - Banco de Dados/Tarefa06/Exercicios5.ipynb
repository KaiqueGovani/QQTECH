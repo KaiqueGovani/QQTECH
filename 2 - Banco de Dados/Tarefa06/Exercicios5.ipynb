{
 "cells": [
  {
   "cell_type": "code",
   "execution_count": null,
   "metadata": {},
   "outputs": [],
   "source": [
    "\n",
    "\n"
   ]
  },
  {
   "cell_type": "markdown",
   "metadata": {},
   "source": [
    "### 1) Crie uma conexão com o banco QQ TECH.\n",
    " \n",
    "\n",
    " \n"
   ]
  },
  {
   "cell_type": "code",
   "execution_count": 2,
   "metadata": {},
   "outputs": [
    {
     "ename": "OperationalError",
     "evalue": "connection to server at \"172.22.0.99\", port 5332 failed: Connection timed out (0x0000274C/10060)\n\tIs the server running on that host and accepting TCP/IP connections?\n",
     "output_type": "error",
     "traceback": [
      "\u001b[1;31m---------------------------------------------------------------------------\u001b[0m",
      "\u001b[1;31mOperationalError\u001b[0m                          Traceback (most recent call last)",
      "\u001b[1;32mc:\\Users\\kaiqu\\Desktop\\QQTECH\\QQTECH\\2 - Banco de Dados\\Tarefa06\\Exercicios5.ipynb Cell 3\u001b[0m line \u001b[0;36m5\n\u001b[0;32m      <a href='vscode-notebook-cell:/c%3A/Users/kaiqu/Desktop/QQTECH/QQTECH/2%20-%20Banco%20de%20Dados/Tarefa06/Exercicios5.ipynb#X12sZmlsZQ%3D%3D?line=0'>1</a>\u001b[0m connection \u001b[39m=\u001b[39m \u001b[39m\"\u001b[39m\u001b[39mhost=172.22.0.99 port=5332 dbname=risco user=u_bots_risco password=PDLbIF513Jt5\u001b[39m\u001b[39m\"\u001b[39m\n\u001b[0;32m      <a href='vscode-notebook-cell:/c%3A/Users/kaiqu/Desktop/QQTECH/QQTECH/2%20-%20Banco%20de%20Dados/Tarefa06/Exercicios5.ipynb#X12sZmlsZQ%3D%3D?line=2'>3</a>\u001b[0m \u001b[39mimport\u001b[39;00m \u001b[39mpsycopg2\u001b[39;00m\n\u001b[1;32m----> <a href='vscode-notebook-cell:/c%3A/Users/kaiqu/Desktop/QQTECH/QQTECH/2%20-%20Banco%20de%20Dados/Tarefa06/Exercicios5.ipynb#X12sZmlsZQ%3D%3D?line=4'>5</a>\u001b[0m \u001b[39mwith\u001b[39;00m psycopg2\u001b[39m.\u001b[39;49mconnect(connection) \u001b[39mas\u001b[39;00m conn:\n\u001b[0;32m      <a href='vscode-notebook-cell:/c%3A/Users/kaiqu/Desktop/QQTECH/QQTECH/2%20-%20Banco%20de%20Dados/Tarefa06/Exercicios5.ipynb#X12sZmlsZQ%3D%3D?line=6'>7</a>\u001b[0m     \u001b[39mprint\u001b[39m(\u001b[39m'\u001b[39m\u001b[39mConexão estabelecida\u001b[39m\u001b[39m'\u001b[39m)\n\u001b[0;32m      <a href='vscode-notebook-cell:/c%3A/Users/kaiqu/Desktop/QQTECH/QQTECH/2%20-%20Banco%20de%20Dados/Tarefa06/Exercicios5.ipynb#X12sZmlsZQ%3D%3D?line=7'>8</a>\u001b[0m     \u001b[39m# Aqui roda o código com a conexão aberta\u001b[39;00m\n",
      "File \u001b[1;32m~\\AppData\\Local\\Packages\\PythonSoftwareFoundation.Python.3.11_qbz5n2kfra8p0\\LocalCache\\local-packages\\Python311\\site-packages\\psycopg2\\__init__.py:122\u001b[0m, in \u001b[0;36mconnect\u001b[1;34m(dsn, connection_factory, cursor_factory, **kwargs)\u001b[0m\n\u001b[0;32m    119\u001b[0m     kwasync[\u001b[39m'\u001b[39m\u001b[39masync_\u001b[39m\u001b[39m'\u001b[39m] \u001b[39m=\u001b[39m kwargs\u001b[39m.\u001b[39mpop(\u001b[39m'\u001b[39m\u001b[39masync_\u001b[39m\u001b[39m'\u001b[39m)\n\u001b[0;32m    121\u001b[0m dsn \u001b[39m=\u001b[39m _ext\u001b[39m.\u001b[39mmake_dsn(dsn, \u001b[39m*\u001b[39m\u001b[39m*\u001b[39mkwargs)\n\u001b[1;32m--> 122\u001b[0m conn \u001b[39m=\u001b[39m _connect(dsn, connection_factory\u001b[39m=\u001b[39;49mconnection_factory, \u001b[39m*\u001b[39;49m\u001b[39m*\u001b[39;49mkwasync)\n\u001b[0;32m    123\u001b[0m \u001b[39mif\u001b[39;00m cursor_factory \u001b[39mis\u001b[39;00m \u001b[39mnot\u001b[39;00m \u001b[39mNone\u001b[39;00m:\n\u001b[0;32m    124\u001b[0m     conn\u001b[39m.\u001b[39mcursor_factory \u001b[39m=\u001b[39m cursor_factory\n",
      "\u001b[1;31mOperationalError\u001b[0m: connection to server at \"172.22.0.99\", port 5332 failed: Connection timed out (0x0000274C/10060)\n\tIs the server running on that host and accepting TCP/IP connections?\n"
     ]
    }
   ],
   "source": [
    "connection = \"host=172.22.0.99 port=5332 dbname=risco user=u_bots_risco password=PDLbIF513Jt5\"\n",
    "\n",
    "import psycopg2\n",
    "\n",
    "with psycopg2.connect(connection) as conn:\n",
    "    \n",
    "    print('Conexão estabelecida')\n",
    "    # Aqui roda o código com a conexão aberta"
   ]
  },
  {
   "cell_type": "markdown",
   "metadata": {},
   "source": [
    "### 2) Com a conexão criada, selecione na tabela tabela_treinamento do banco:\n",
    " \n",
    "#### a) As linhas que correspondem a pessoas de São Paulo\n",
    "\n",
    "#### b) As linhas que correspondem a pessoas com idade entre 22 e 27 anos\n",
    "\n",
    "#### c) As cidades das pessoas com o nome Maria"
   ]
  },
  {
   "cell_type": "markdown",
   "metadata": {},
   "source": [
    "### 3) Insira na tabela 2 novas linhas com dados ficticios"
   ]
  }
 ],
 "metadata": {
  "kernelspec": {
   "display_name": "Python 3",
   "language": "python",
   "name": "python3"
  },
  "language_info": {
   "codemirror_mode": {
    "name": "ipython",
    "version": 3
   },
   "file_extension": ".py",
   "mimetype": "text/x-python",
   "name": "python",
   "nbconvert_exporter": "python",
   "pygments_lexer": "ipython3",
   "version": "3.11.5"
  },
  "orig_nbformat": 4
 },
 "nbformat": 4,
 "nbformat_minor": 2
}
