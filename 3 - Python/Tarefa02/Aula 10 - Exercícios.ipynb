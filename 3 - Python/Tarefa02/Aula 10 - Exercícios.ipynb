{
 "cells": [
  {
   "cell_type": "markdown",
   "metadata": {},
   "source": [
    "1) Crie uma classe para controlar o estoque de um produto, seguindo as seguintes instruções:\n",
    "\n",
    "- Ao instaciar a classe, deve ser passado o número inicial de produtos no estoque\n",
    "- Deve haver um método que retorno se o produto está disponível em estoque ou não\n",
    "- Deve haver métodos para quando o produto é vendido (diminuindo o estoque) e recebido (aumentando o estoque)\n",
    "- Deve haver método para encomendar um produto (considere somente que o produto saí do estoque quando é efetivamente vendido, não somente encomendado)\n",
    "- A classe deve manter guardado o número de produtos vendidos e encomendas\n",
    "\n",
    "Após criada a classe, simule um fluxo com ela em que inicialmente existem 15 produtos no estoque e são feitas 20 solicitações de venda (de 1 unidade cada), caso o produto esteja em estoque a venda é efetuada, se não, é feita uma encomenda. Após isso, é feita a reposição de 50 unidades do produto no estoque."
   ]
  },
  {
   "cell_type": "markdown",
   "metadata": {},
   "source": [
    "2) Utilizando selenium, acesse a página de móveis https://www.lebes.com.br/moveis-e-decoracao e colete as informações de descrição e preço dos produtos da página.\n",
    "\n",
    "Estruture esses dados em um dataframe."
   ]
  },
  {
   "cell_type": "markdown",
   "metadata": {},
   "source": [
    "3) Coloque o data frame do exercício anterior na tabela db_risco.treinamento_qqtech em um banco postgres:"
   ]
  },
  {
   "cell_type": "markdown",
   "metadata": {},
   "source": [
    "4) No exercício anterior, suponha que foi recebida a informação que todos os produtos coletados com preço abaixo de R$ 200 terão um aumento de 10% no preço.\n",
    "\n",
    "Atualize o preço dos produtos com essa alteração no banco de dados."
   ]
  }
 ],
 "metadata": {
  "kernelspec": {
   "display_name": "Python 3.10.9 ('base')",
   "language": "python",
   "name": "python3"
  },
  "language_info": {
   "name": "python",
   "version": "3.11.5"
  },
  "orig_nbformat": 4,
  "vscode": {
   "interpreter": {
    "hash": "c9ffaa070c9da79731a4c755488b998ea01cb6a4e5f9232e35c2664f3a5a2ac8"
   }
  }
 },
 "nbformat": 4,
 "nbformat_minor": 2
}
