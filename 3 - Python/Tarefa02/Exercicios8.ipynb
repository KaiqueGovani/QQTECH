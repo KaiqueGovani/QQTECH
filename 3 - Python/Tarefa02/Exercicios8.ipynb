{
 "cells": [
  {
   "cell_type": "markdown",
   "metadata": {},
   "source": [
    "1) Crie uma classe Produto, que receba como argumentos no instanciamento o nome e o preço do produto. A classe deve ter um método \"desconto\" que retornará o preço do produto com um percentual de desconto que é passado como argumento para esse método."
   ]
  },
  {
   "cell_type": "code",
   "execution_count": null,
   "metadata": {},
   "outputs": [],
   "source": [
    "class Produto:\n",
    "    def __init__(self, nome, preco):\n",
    "        self.nome = nome\n",
    "        self.preco = preco\n",
    "\n",
    "    def desconto(self, percentual):\n",
    "        self.preco = self.preco - (self.preco * (percentual / 100))"
   ]
  },
  {
   "cell_type": "markdown",
   "metadata": {},
   "source": [
    "2) Crie uma classe que representa o caixa de uma empresa, onde os argumentos no instanciamento serão o valor total inicial do caixa e deverão haver métodos de recebimento e pagamento, que recebem argumentos do valor que deve ser recebido ou pago e alterar do valor total. Crie também um método que printe o valor total atual do caixa. Simule após isso o fluxo para um caixa com valor inicial de 5000, que faça 15 vendas de 500 e 4 pagamentos de 1000, após as transações verifique o valor restante em caixa."
   ]
  },
  {
   "cell_type": "code",
   "execution_count": 4,
   "metadata": {},
   "outputs": [
    {
     "name": "stdout",
     "output_type": "stream",
     "text": [
      "8500\n"
     ]
    }
   ],
   "source": [
    "class Caixa:\n",
    "    def __init__(self, valor_total):\n",
    "        self.valor_total = valor_total\n",
    "    \n",
    "    def receber(self, valor):\n",
    "        self.valor_total += valor\n",
    "    \n",
    "    def pagar(self, valor):\n",
    "        self.valor_total -= valor\n",
    "\n",
    "    def mostrar_total(self):\n",
    "        print(self.valor_total)\n",
    "\n",
    "caixa = Caixa(5000)\n",
    "for _ in range(15):\n",
    "    caixa.receber(500)\n",
    "\n",
    "for _ in range(4):\n",
    "    caixa.pagar(1000)\n",
    "\n",
    "caixa.mostrar_total()"
   ]
  }
 ],
 "metadata": {
  "kernelspec": {
   "display_name": "Python 3",
   "language": "python",
   "name": "python3"
  },
  "language_info": {
   "codemirror_mode": {
    "name": "ipython",
    "version": 3
   },
   "file_extension": ".py",
   "mimetype": "text/x-python",
   "name": "python",
   "nbconvert_exporter": "python",
   "pygments_lexer": "ipython3",
   "version": "3.11.5"
  }
 },
 "nbformat": 4,
 "nbformat_minor": 2
}
