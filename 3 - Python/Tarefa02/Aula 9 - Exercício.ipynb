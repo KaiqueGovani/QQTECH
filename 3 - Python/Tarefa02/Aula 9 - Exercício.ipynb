{
 "cells": [
  {
   "cell_type": "markdown",
   "metadata": {},
   "source": [
    "1) A sequencia de Fibonacci é caracterizada por um sequencia de números que começa com 0 e 1, e os próximos termos são os a soma dos dois termos imediatamente anteriores. Por exemplo:\n",
    "\n",
    "1º Termo = 0\n",
    "\n",
    "2º Termo = 1\n",
    "\n",
    "3° Termo = 0+1 = 1\n",
    "\n",
    "4º Termo = 1+1 = 2\n",
    "\n",
    "5º Termo = 1+2 = 3\n",
    "\n",
    "a) Calcule os 100 primeiros termos da sequência, colocando-os em uma lista.\n",
    "\n",
    "b) Qual o valor do 59º termo da sequência?\n",
    "\n",
    "c) Calcule a média aritmética dos 100 primeiros termos da sequencia de Fibonacci. (Lembrando que a média aritmética é dada pela soma de todos os termos dividida pelo número de termos)\n"
   ]
  },
  {
   "cell_type": "markdown",
   "metadata": {},
   "source": [
    "2) Faça uma função que calcule a sequência de fibonacci até o n-ésimo termo, sendo n um argumento que será passado pra função. Faça essa função retornar uma lista com os termos calculados dentro."
   ]
  },
  {
   "cell_type": "markdown",
   "metadata": {},
   "source": [
    "3) Utilizando a função criada no exercício anterior, crie 2 arquivos de texto, um com o nome *10_termos.txt* que contenha os 10 primeiros termos da sequência de Fibonacci, um termo em cada linha, e outro arquivo *100_termos.txt* com os 100 primeiros termos da sequência."
   ]
  },
  {
   "cell_type": "markdown",
   "metadata": {},
   "source": [
    "4) Crie utilizando um pandas dataframe a seguinte tabela e salve essa tabela em um arquivo excel (tabela.xlsx):\n",
    "\n",
    "| nome | idade | cidade         | profissão |\n",
    "|------|-------|----------------|-----------|\n",
    "| joão | 22    | Porto Alegre   | professor |\n",
    "| ana  | 23    | São Paulo      | jornalista|\n",
    "| pedro| 24    | Rio de Janeiro | advogado  |\n",
    "| maria| 25    | Belo Horizonte | vendedor  |\n",
    "| josé | 26    | Porto Alegre   | engenheiro|"
   ]
  },
  {
   "cell_type": "markdown",
   "metadata": {},
   "source": [
    "5) O arquivo base_vendas.csv contém informações a cerca de vendas de produtos fictícios, as colunas do arquivo são as seguintes:\n",
    "\n",
    "**sku**: Identificador único para cada produto.\\\n",
    "**classe**: Categoria à qual o produto pertence (Móveis, Decoração, Tecnologia, etc...).\\\n",
    "**qtde_vendida**: Quantidade de vendas do produto no período de análise.\\\n",
    "**valor_unitario**: Preço unitário de cada produto.\n",
    "\n",
    "Carregue a base em um dataframe e responda as seguintes questões:\n",
    "\n",
    "a) Qual o tipo de cada coluna?\n",
    "\n",
    "b) Quantas classes de produtos existem na base e quais são elas?\n",
    "\n",
    "c) Considerando todos os produtos, qual o total de unidades vendidas?\n",
    "\n",
    "d) Qual o total de unidades vendidas por classe?\n",
    "\n",
    "e) Indique os sku's dos 10 produtos mais vendidos e menos vendidos.\n",
    "\n",
    "f) Qual a média da quantidade de unidades vendidas?\n",
    "\n",
    "g) Qual a média da quantidade de unidades vendidas por classe?\n",
    "\n",
    "h) Crie uma coluna indicando a receita total de cada produto.\n",
    "\n",
    "i) Qual a receita total no período analisado?\n",
    "\n",
    "j) Considerando os 10 produtos mais rentáveis, quantos por cento da receita total eles representam?\n",
    "\n",
    "k) Quantos dos produtos mais rentáveis somam 50% da receita total?"
   ]
  }
 ],
 "metadata": {
  "kernelspec": {
   "display_name": "Python 3.10.9 ('base')",
   "language": "python",
   "name": "python3"
  },
  "language_info": {
   "name": "python",
   "version": "3.10.9"
  },
  "orig_nbformat": 4,
  "vscode": {
   "interpreter": {
    "hash": "c9ffaa070c9da79731a4c755488b998ea01cb6a4e5f9232e35c2664f3a5a2ac8"
   }
  }
 },
 "nbformat": 4,
 "nbformat_minor": 2
}
