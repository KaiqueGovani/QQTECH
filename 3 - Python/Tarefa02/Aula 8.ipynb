{
 "cells": [
  {
   "cell_type": "markdown",
   "id": "9359d5d0",
   "metadata": {},
   "source": [
    "#### CLASSE"
   ]
  },
  {
   "cell_type": "code",
   "execution_count": null,
   "id": "6288733b",
   "metadata": {},
   "outputs": [],
   "source": [
    "class MyClass:\n",
    "    mensagem = \"Olá\"\n",
    "    num = 15"
   ]
  },
  {
   "cell_type": "markdown",
   "id": "a5990a58",
   "metadata": {},
   "source": [
    "#### ATRIBUTO DE CLASSE"
   ]
  },
  {
   "cell_type": "code",
   "execution_count": null,
   "id": "9c0d861a",
   "metadata": {
    "scrolled": true
   },
   "outputs": [],
   "source": [
    "MyClass.mensagem\n",
    "MyClass.num"
   ]
  },
  {
   "cell_type": "markdown",
   "id": "a2a4515b",
   "metadata": {},
   "source": [
    "#### INIT "
   ]
  },
  {
   "cell_type": "code",
   "execution_count": null,
   "id": "f1487f40",
   "metadata": {},
   "outputs": [],
   "source": [
    "class MyClass:\n",
    "    mensagem = \"Olá\"\n",
    "    \n",
    "    def __init__(self):\n",
    "        print('Classe instanciada')"
   ]
  },
  {
   "cell_type": "code",
   "execution_count": null,
   "id": "4bff480b",
   "metadata": {},
   "outputs": [],
   "source": [
    "# Instanciando\n",
    "my_instance = MyClass()"
   ]
  },
  {
   "cell_type": "code",
   "execution_count": null,
   "id": "47a84257",
   "metadata": {},
   "outputs": [],
   "source": [
    "my_instance2 = MyClass()"
   ]
  },
  {
   "cell_type": "code",
   "execution_count": null,
   "id": "d70f8c27",
   "metadata": {},
   "outputs": [],
   "source": []
  },
  {
   "cell_type": "code",
   "execution_count": null,
   "id": "cacd1354",
   "metadata": {},
   "outputs": [],
   "source": []
  },
  {
   "cell_type": "markdown",
   "id": "ed2fae6c",
   "metadata": {},
   "source": [
    "#### INSTANCIAR COM ARGUMENTOS"
   ]
  },
  {
   "cell_type": "code",
   "execution_count": null,
   "id": "0d550129",
   "metadata": {},
   "outputs": [],
   "source": [
    "class MyClass:\n",
    "    mensagem = \"Olá\"\n",
    "    \n",
    "    def __init__(self, nome, idade=None):\n",
    "        print(f'Nome: {nome}, Idade:{idade}')"
   ]
  },
  {
   "cell_type": "code",
   "execution_count": null,
   "id": "e80e055b",
   "metadata": {},
   "outputs": [],
   "source": [
    "# Instanciando\n",
    "my_instance = MyClass('João', '30')"
   ]
  },
  {
   "cell_type": "code",
   "execution_count": null,
   "id": "6646b07f",
   "metadata": {},
   "outputs": [],
   "source": [
    "my_instance2 = MyClass('PEdro', '30')"
   ]
  },
  {
   "cell_type": "markdown",
   "id": "0ead5943",
   "metadata": {},
   "source": [
    "#### ATRIBUTOS DA INSTANCIA"
   ]
  },
  {
   "cell_type": "code",
   "execution_count": null,
   "id": "415339a3",
   "metadata": {},
   "outputs": [],
   "source": [
    "class MyClass:\n",
    "    mensagem = \"Olá\"\n",
    "    \n",
    "    def __init__(self, nome):\n",
    "        self.nome = nome\n",
    "        self.saudacao = f\"Olá, {nome}!\""
   ]
  },
  {
   "cell_type": "code",
   "execution_count": null,
   "id": "df7d4557",
   "metadata": {},
   "outputs": [],
   "source": [
    "# Instanciando\n",
    "my_instance = MyClass('Pedro')"
   ]
  },
  {
   "cell_type": "code",
   "execution_count": null,
   "id": "35b44d03",
   "metadata": {},
   "outputs": [],
   "source": [
    "# Acessando atributos da instancia\n",
    "my_instance.nome"
   ]
  },
  {
   "cell_type": "code",
   "execution_count": null,
   "id": "8d1c290c",
   "metadata": {},
   "outputs": [],
   "source": [
    "# Acessando atributos da instancia\n",
    "my_instance.saudacao"
   ]
  },
  {
   "cell_type": "code",
   "execution_count": null,
   "id": "ad5184fe",
   "metadata": {},
   "outputs": [],
   "source": [
    "MyClass.mensagem"
   ]
  },
  {
   "cell_type": "markdown",
   "id": "a80d5f5d",
   "metadata": {},
   "source": [
    "#### MÉTODOS"
   ]
  },
  {
   "cell_type": "code",
   "execution_count": null,
   "id": "7620c72f",
   "metadata": {},
   "outputs": [],
   "source": [
    "class MyClass:\n",
    "    mensagem = \"Olá\"\n",
    "    \n",
    "    def __init__(self, nome):\n",
    "        self.nome = nome\n",
    "        self.saudacao = f\"Olá, {nome}!\"\n",
    "        \n",
    "    def despedida(self):\n",
    "        print(f\"Tchau, {self.nome}!\")"
   ]
  },
  {
   "cell_type": "code",
   "execution_count": null,
   "id": "e2c10871",
   "metadata": {},
   "outputs": [],
   "source": [
    "# Instanciando\n",
    "my_instance = MyClass('Pedro')"
   ]
  },
  {
   "cell_type": "code",
   "execution_count": null,
   "id": "8760ebf3",
   "metadata": {},
   "outputs": [],
   "source": [
    "my_instance.despedida()"
   ]
  },
  {
   "cell_type": "code",
   "execution_count": null,
   "id": "559cfab7",
   "metadata": {},
   "outputs": [],
   "source": [
    "class Carro:\n",
    "\n",
    "    def  __init__(self, cor, marca, potencia):\n",
    "        self.cor = cor\n",
    "        self.marca = marca\n",
    "        self.potencia = potencia\n",
    "        self.velocidade = 0\n",
    "\n",
    "    def descricao(self):\n",
    "        print(f'Marca:{self.marca}, Cor:{self.cor}, Potência:{self.potencia}')\n",
    "\n",
    "    def acelerar(self):\n",
    "        self.velocidade = self.velocidade + self.potencia/10\n",
    "\n",
    "    def freiar(self):\n",
    "        self.velocidade = self.velocidade - self.potencia/10"
   ]
  },
  {
   "cell_type": "code",
   "execution_count": null,
   "id": "6a8306d0",
   "metadata": {},
   "outputs": [],
   "source": [
    "car2 = Carro('Verde', 'Ford', 500)"
   ]
  },
  {
   "cell_type": "code",
   "execution_count": null,
   "id": "1aa6f9ad",
   "metadata": {},
   "outputs": [],
   "source": [
    "car = Carro('Azul', 'Ford', 500)"
   ]
  },
  {
   "cell_type": "code",
   "execution_count": null,
   "id": "4d7015c8",
   "metadata": {},
   "outputs": [],
   "source": [
    "car.descricao()"
   ]
  },
  {
   "cell_type": "code",
   "execution_count": null,
   "id": "634968bc",
   "metadata": {},
   "outputs": [],
   "source": [
    "car2.descricao()"
   ]
  },
  {
   "cell_type": "code",
   "execution_count": null,
   "id": "8086e9c0",
   "metadata": {},
   "outputs": [],
   "source": [
    "car2.velocidade"
   ]
  },
  {
   "cell_type": "code",
   "execution_count": null,
   "id": "6e7ede8f",
   "metadata": {},
   "outputs": [],
   "source": [
    "car.velocidade"
   ]
  },
  {
   "cell_type": "code",
   "execution_count": null,
   "id": "b37d477c",
   "metadata": {},
   "outputs": [],
   "source": [
    "car.acelerar()"
   ]
  },
  {
   "cell_type": "code",
   "execution_count": null,
   "id": "1277a5ea",
   "metadata": {},
   "outputs": [],
   "source": [
    "car.velocidade"
   ]
  },
  {
   "cell_type": "code",
   "execution_count": null,
   "id": "50b77a28",
   "metadata": {},
   "outputs": [],
   "source": [
    "car.acelerar()"
   ]
  },
  {
   "cell_type": "code",
   "execution_count": null,
   "id": "176b26fd",
   "metadata": {},
   "outputs": [],
   "source": [
    "car.velocidade"
   ]
  },
  {
   "cell_type": "code",
   "execution_count": null,
   "id": "12523663",
   "metadata": {},
   "outputs": [],
   "source": [
    "car.freiar()"
   ]
  },
  {
   "cell_type": "code",
   "execution_count": null,
   "id": "b3355fa8",
   "metadata": {},
   "outputs": [],
   "source": [
    "car.velocidade"
   ]
  },
  {
   "cell_type": "code",
   "execution_count": null,
   "id": "fc903260",
   "metadata": {},
   "outputs": [],
   "source": [
    "car.freiar()"
   ]
  },
  {
   "cell_type": "code",
   "execution_count": null,
   "id": "f6e10aba",
   "metadata": {},
   "outputs": [],
   "source": [
    "car.velocidade"
   ]
  },
  {
   "cell_type": "markdown",
   "id": "8e6557d2",
   "metadata": {},
   "source": [
    "Exercícios propostos:\n",
    "\n",
    "1) Crie uma classe Produto, que receba como argumentos no instanciamento o nome e o preço do produto. A classe deve ter um método \"desconto\" que retornará o preço do produto com um percentual de desconto que é passado como argumento para esse método.\n",
    "\n",
    "2) Crie uma classe que representa o caixa de uma empresa, onde os argumentos no instanciamento serão o valor total inicial do caixa e deverão haver métodos de recebimento e pagamento, que recebem argumentos do valor que deve ser recebido ou pago e alterar do valor total. Crie também um método que printe o valor total atual do caixa. Simule após isso o fluxo para um caixa com valor inicial de 5000, que faça 15 vendas de 500 e 4 pagamentos de 1000, após as transações verifique o valor restante em caixa."
   ]
  }
 ],
 "metadata": {
  "kernelspec": {
   "display_name": "Python 3.11.2 64-bit",
   "language": "python",
   "name": "python3"
  },
  "language_info": {
   "codemirror_mode": {
    "name": "ipython",
    "version": 3
   },
   "file_extension": ".py",
   "mimetype": "text/x-python",
   "name": "python",
   "nbconvert_exporter": "python",
   "pygments_lexer": "ipython3",
   "version": "3.11.2"
  },
  "vscode": {
   "interpreter": {
    "hash": "2b4af793a626ae03bf15925d27528bf6c824efd8681f841b3743797f5d4da032"
   }
  }
 },
 "nbformat": 4,
 "nbformat_minor": 5
}
