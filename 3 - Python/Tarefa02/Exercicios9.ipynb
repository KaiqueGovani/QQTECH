{
 "cells": [
  {
   "cell_type": "markdown",
   "metadata": {},
   "source": [
    "1) A sequencia de Fibonacci é caracterizada por um sequencia de números que começa com 0 e 1, e os próximos termos são os a soma dos dois termos imediatamente anteriores. Por exemplo:\n",
    "\n",
    "1º Termo = 0\n",
    "\n",
    "2º Termo = 1\n",
    "\n",
    "3° Termo = 0+1 = 1\n",
    "\n",
    "4º Termo = 1+1 = 2\n",
    "\n",
    "5º Termo = 1+2 = 3\n",
    "\n",
    "a) Calcule os 100 primeiros termos da sequência, colocando-os em uma lista.\n",
    "\n",
    "b) Qual o valor do 59º termo da sequência?\n",
    "\n",
    "c) Calcule a média aritmética dos 100 primeiros termos da sequencia de Fibonacci. (Lembrando que a média aritmética é dada pela soma de todos os termos dividida pelo número de termos)"
   ]
  },
  {
   "cell_type": "code",
   "execution_count": 10,
   "metadata": {},
   "outputs": [
    {
     "name": "stdout",
     "output_type": "stream",
     "text": [
      "[0, 1, 1, 2, 3, 5, 8, 13, 21, 34, 55, 89, 144, 233, 377, 610, 987, 1597, 2584, 4181, 6765, 10946, 17711, 28657, 46368, 75025, 121393, 196418, 317811, 514229, 832040, 1346269, 2178309, 3524578, 5702887, 9227465, 14930352, 24157817, 39088169, 63245986, 102334155, 165580141, 267914296, 433494437, 701408733, 1134903170, 1836311903, 2971215073, 4807526976, 7778742049, 12586269025, 20365011074, 32951280099, 53316291173, 86267571272, 139583862445, 225851433717, 365435296162, 591286729879, 956722026041, 1548008755920, 2504730781961, 4052739537881, 6557470319842, 10610209857723, 17167680177565, 27777890035288, 44945570212853, 72723460248141, 117669030460994, 190392490709135, 308061521170129, 498454011879264, 806515533049393, 1304969544928657, 2111485077978050, 3416454622906707, 5527939700884757, 8944394323791464, 14472334024676221, 23416728348467685, 37889062373143906, 61305790721611591, 99194853094755497, 160500643816367088, 259695496911122585, 420196140727489673, 679891637638612258, 1100087778366101931, 1779979416004714189, 2880067194370816120, 4660046610375530309, 7540113804746346429, 12200160415121876738, 19740274219868223167, 31940434634990099905, 51680708854858323072, 83621143489848422977, 135301852344706746049, 218922995834555169026]\n",
      "1548008755920\n",
      "5.73147844013817e+18\n"
     ]
    }
   ],
   "source": [
    "from functools import lru_cache\n",
    "\n",
    "\n",
    "@lru_cache(maxsize = None)\n",
    "def fib(n):\n",
    "    if n <= 1:\n",
    "        return n\n",
    "    else:\n",
    "        return fib(n-1) + fib(n-2)\n",
    "    \n",
    "cem = []\n",
    "for _ in range(0, 100):\n",
    "    cem.append(fib(_))\n",
    "\n",
    "print(cem)\n",
    "\n",
    "print(cem[60])\n",
    "\n",
    "print(sum(cem)/100)"
   ]
  },
  {
   "cell_type": "markdown",
   "metadata": {},
   "source": [
    "2) Faça uma função que calcule a sequência de fibonacci até o n-ésimo termo, sendo n um argumento que será passado pra função. Faça essa função retornar uma lista com os termos calculados dentro."
   ]
  },
  {
   "cell_type": "code",
   "execution_count": null,
   "metadata": {},
   "outputs": [],
   "source": [
    "from functools import lru_cache\n",
    "@lru_cache(maxsize = None)\n",
    "def fib(n):\n",
    "    if n <= 1:\n",
    "        return n\n",
    "    else:\n",
    "        return fib(n-1) + fib(n-2)"
   ]
  },
  {
   "cell_type": "markdown",
   "metadata": {},
   "source": [
    "3) Utilizando a função criada no exercício anterior, crie 2 arquivos de texto, um com o nome *10_termos.txt* que contenha os 10 primeiros termos da sequência de Fibonacci, um termo em cada linha, e outro arquivo *100_termos.txt* com os 100 primeiros termos da sequência."
   ]
  },
  {
   "cell_type": "code",
   "execution_count": 11,
   "metadata": {},
   "outputs": [],
   "source": [
    "from functools import lru_cache\n",
    "@lru_cache(maxsize = None)\n",
    "def fib(n):\n",
    "    if n <= 1:\n",
    "        return n\n",
    "    else:\n",
    "        return fib(n-1) + fib(n-2)\n",
    "    \n",
    "with open('10_termos.txt', 'w') as f:\n",
    "    for _ in range(0, 10):\n",
    "        print(fib(_), file = f)\n",
    "\n",
    "with open('100_termos.txt', 'w') as f:\n",
    "    for _ in range(0, 100):\n",
    "        print(fib(_), file = f)"
   ]
  },
  {
   "cell_type": "markdown",
   "metadata": {},
   "source": [
    "4) Crie utilizando um pandas dataframe a seguinte tabela e salve essa tabela em um arquivo excel (tabela.xlsx):\n",
    "\n",
    "| nome | idade | cidade         | profissão |\n",
    "|------|-------|----------------|-----------|\n",
    "| joão | 22    | Porto Alegre   | professor |\n",
    "| ana  | 23    | São Paulo      | jornalista|\n",
    "| pedro| 24    | Rio de Janeiro | advogado  |\n",
    "| maria| 25    | Belo Horizonte | vendedor  |\n",
    "| josé | 26    | Porto Alegre   | engenheiro|"
   ]
  },
  {
   "cell_type": "code",
   "execution_count": 14,
   "metadata": {},
   "outputs": [],
   "source": [
    "import pandas as pd\n",
    "\n",
    "data = {'Nome': ['João', 'Ana', 'Pedro', 'Maria', 'José'], 'Idade': [22, 23, 24, 25, 26], 'Cidade': ['Porto Alegre', 'São Paulo', 'Rio de Janeiro', 'Belo Horizonte', 'Porto Alegre'], 'Profissão': ['Professor', 'Jornalista', 'Advogado', 'Vendedor', 'Engenheiro']}\n",
    "\n",
    "df = pd.DataFrame(data)\n",
    "\n",
    "df.to_excel('tabela.xlsx', index = False)"
   ]
  },
  {
   "cell_type": "markdown",
   "metadata": {},
   "source": [
    "5) O arquivo base_vendas.csv contém informações a cerca de vendas de produtos fictícios, as colunas do arquivo são as seguintes:\n",
    "\n",
    "**sku**: Identificador único para cada produto.\\\n",
    "**classe**: Categoria à qual o produto pertence (Móveis, Decoração, Tecnologia, etc...).\\\n",
    "**qtde_vendida**: Quantidade de vendas do produto no período de análise.\\\n",
    "**valor_unitario**: Preço unitário de cada produto.\n",
    "\n",
    "Carregue a base em um dataframe e responda as seguintes questões:\n",
    "\n",
    "a) Qual o tipo de cada coluna?\n",
    "\n",
    "b) Quantas classes de produtos existem na base e quais são elas?\n",
    "\n",
    "c) Considerando todos os produtos, qual o total de unidades vendidas?\n",
    "\n",
    "d) Qual o total de unidades vendidas por classe?\n",
    "\n",
    "e) Indique os sku's dos 10 produtos mais vendidos e menos vendidos.\n",
    "\n",
    "f) Qual a média da quantidade de unidades vendidas?\n",
    "\n",
    "g) Qual a média da quantidade de unidades vendidas por classe?\n",
    "\n",
    "h) Crie uma coluna indicando a receita total de cada produto.\n",
    "\n",
    "i) Qual a receita total no período analisado?\n",
    "\n",
    "j) Considerando os 10 produtos mais rentáveis, quantos por cento da receita total eles representam?\n",
    "\n",
    "k) Quantos dos produtos mais rentáveis somam 50% da receita total?"
   ]
  },
  {
   "cell_type": "code",
   "execution_count": null,
   "metadata": {},
   "outputs": [],
   "source": [
    "import pandas as pd\n",
    "\n",
    "df = pd.read_csv('base_vendas.csv')\n",
    "\n",
    "# a) Qual o tipo de cada coluna?\n",
    "tipos = df.dtypes\n",
    "\n",
    "# b) Quantas classes de produtos existem na base e quais são elas?\n",
    "num_classes = df['classe'].nunique()\n",
    "classes = df['classe'].unique()\n",
    "\n",
    "# c) Considerando todos os produtos, qual o total de unidades vendidas?\n",
    "total_vendas = df['qtde_vendida'].sum()\n",
    "\n",
    "# d) Qual o total de unidades vendidas por classe?\n",
    "vendas_por_classe = df.groupby('classe')['qtde_vendida'].sum()\n",
    "\n",
    "# e) Indique os sku's dos 10 produtos mais vendidos e menos vendidos.\n",
    "top_10_vendidos = df.nlargest(10, 'qtde_vendida')['sku']\n",
    "top_10_menos_vendidos = df.nsmallest(10, 'qtde_vendida')['sku']\n",
    "\n",
    "# f) Qual a média da quantidade de unidades vendidas?\n",
    "media_vendas = df['qtde_vendida'].mean()\n",
    "\n",
    "# g) Qual a média da quantidade de unidades vendidas por classe?\n",
    "media_vendas_por_classe = df.groupby('classe')['qtde_vendida'].mean()\n",
    "\n",
    "# h) Crie uma coluna indicando a receita total de cada produto.\n",
    "df['receita_total'] = df['qtde_vendida'] * df['valor_unitario']\n",
    "\n",
    "# i) Qual a receita total no período analisado?\n",
    "receita_total = df['receita_total'].sum()\n",
    "\n",
    "# j) Considerando os 10 produtos mais rentáveis, quantos por cento da receita total eles representam?\n",
    "top_10_receita = df.nlargest(10, 'receita_total')['receita_total'].sum()\n",
    "percentual_top_10_receita = (top_10_receita / receita_total) * 100\n",
    "\n",
    "# k) Quantos dos produtos mais rentáveis somam 50% da receita total?\n",
    "df_sorted = df.sort_values(by='receita_total', ascending=False)\n",
    "df_sorted['cumsum'] = df_sorted['receita_total'].cumsum()\n",
    "num_produtos_50_percent = len(df_sorted[df_sorted['cumsum'] <= receita_total * 0.5])\n",
    "\n"
   ]
  }
 ],
 "metadata": {
  "kernelspec": {
   "display_name": "Python 3",
   "language": "python",
   "name": "python3"
  },
  "language_info": {
   "codemirror_mode": {
    "name": "ipython",
    "version": 3
   },
   "file_extension": ".py",
   "mimetype": "text/x-python",
   "name": "python",
   "nbconvert_exporter": "python",
   "pygments_lexer": "ipython3",
   "version": "3.11.5"
  }
 },
 "nbformat": 4,
 "nbformat_minor": 2
}
